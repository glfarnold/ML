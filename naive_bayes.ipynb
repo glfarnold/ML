{
 "cells": [
  {
   "cell_type": "markdown",
   "id": "71fcd20c",
   "metadata": {},
   "source": [
    "# Exercise 4 - Spam Filtering with Naive Bayes\n",
    "\n",
    "In this Exercise we will implement a spam detector that relies on the naive Bayes assumption. We will then compare its performance to logistic regression.\n",
    "\n",
    "In the event of a persistent problem, do not hesitate to contact the course instructor under\n",
    "\n",
    "- paul.kahlmeyer@uni-jena.de\n",
    "\n",
    "### Submission\n",
    "- Deadline of submission:\n",
    "        10.05.23 23:59\n",
    "- Submission on [moodle page](https://moodle.uni-jena.de/course/view.php?id=43681)\n",
    "\n",
    "\n",
    "### Help\n",
    "In case you cannot solve a task, you can use the saved values within the `help` directory:\n",
    "- Load arrays with [Numpy](https://numpy.org/doc/stable/reference/generated/numpy.load.html)\n",
    "```\n",
    "np.load('help/array_name.npy')\n",
    "```\n",
    "- Load functions with [Dill](https://dill.readthedocs.io/en/latest/dill.html)\n",
    "```\n",
    "import dill\n",
    "with open('help/some_func.pkl', 'rb') as f:\n",
    "    func = dill.load(f)\n",
    "```\n",
    "\n",
    "to continue working on the other tasks."
   ]
  },
  {
   "cell_type": "markdown",
   "id": "bbaee5db",
   "metadata": {},
   "source": [
    "# Dataset\n",
    "\n",
    "We will use the [SMS Spam Collection Dataset](https://www.kaggle.com/datasets/uciml/sms-spam-collection-dataset?resource=download). You find this dataset as `spam_data.csv`. Each line consists of a message together with a label:\n",
    "- spam (message is a spam message)\n",
    "- ham (message is legitimate)"
   ]
  },
  {
   "cell_type": "markdown",
   "id": "2226b020",
   "metadata": {},
   "source": [
    "### Task 1\n",
    "Find a way to load the dataset and transform the features `X` (SMS) and the labels `Y` (spam/ham) into numerical representations.\n",
    "\n",
    "Hint:\n",
    "\n",
    "For transforming SMS into features, check out the bag of words representation from [scikit-learn](https://scikit-learn.org/stable/modules/feature_extraction.html)"
   ]
  },
  {
   "cell_type": "code",
   "execution_count": 331,
   "id": "dddc4758",
   "metadata": {},
   "outputs": [
    {
     "name": "stdout",
     "output_type": "stream",
     "text": [
      "0       0\n",
      "1       0\n",
      "2       1\n",
      "3       0\n",
      "4       0\n",
      "       ..\n",
      "5567    1\n",
      "5568    0\n",
      "5569    0\n",
      "5570    0\n",
      "5571    0\n",
      "Name: v1, Length: 5572, dtype: int64\n"
     ]
    }
   ],
   "source": [
    "# TODO: load data, transform into numerical features + labels\n",
    "\n",
    "# Load the SMS spam dataset\n",
    "df = pd.read_csv('./spam_data.csv', encoding='latin-1')\n",
    "\n",
    "# Split into features and labels\n",
    "X = df['v2']  # Features\n",
    "Y = df['v1']  # Labels\n",
    "\n",
    "# transform labels into numerical representation\n",
    "Y = Y.map({\"ham\": 0, \"spam\": 1})\n",
    "\n",
    "# Fit and transform the text messages to a bag-of-words matrix\n",
    "vectorizer = CountVectorizer()\n",
    "X = vectorizer.fit_transform(X).toarray()"
   ]
  },
  {
   "cell_type": "markdown",
   "id": "3f6cd503",
   "metadata": {},
   "source": [
    "# Naive Bayes\n",
    "\n",
    "The naive Bayes filter is based on the Bayes formula with an additional simplifying (naive) assumption about the nature of the likelihood.\n",
    "\n",
    "Let $S = \\{\\text{spam}, \\text{ham}\\}$ be the source of a SMS and $W = [w_1,\\dots w_k]$ be the sequence of words contained in the SMS.\n",
    "Then filtering for spam and ham is done by evaluating the posterior distribution\n",
    "\\begin{align}\n",
    "P(S|W)&=\\cfrac{P(S)P(W|S)}{P(W)}\n",
    "\\end{align}\n",
    "\n",
    "Lets look at the single parts of the equations right hand side and how to implement them.\n",
    "\n",
    "As a running example we will use $W = [\\text{this}, \\text{is}, \\text{no}, \\text{spam}, \\text{message}]$."
   ]
  },
  {
   "cell_type": "markdown",
   "id": "79137530",
   "metadata": {},
   "source": [
    "## Prior $P(S)$"
   ]
  },
  {
   "cell_type": "markdown",
   "id": "805adc25",
   "metadata": {},
   "source": [
    "The prior distribution $P(S)$ is independent of the message $W$. We will use the maximum likelihood (ML) estimate for a categorical distribution, which is the relative frequency of the categories among the dataset.\n",
    "\\begin{align}\n",
    "P(S = \\text{spam})_{ML} &= \\cfrac{\\text{# SMS that are spam}}{\\text{# SMS}}\\\\\n",
    "P(S = \\text{ham})_{ML} &= 1 - P(S = \\text{spam})\n",
    "\\end{align}\n",
    "\n",
    "### Task 2\n",
    "\n",
    "Estimate $P(S)$. Display the estimated distribution in a bar chart."
   ]
  },
  {
   "cell_type": "code",
   "execution_count": 361,
   "id": "d7b6c529",
   "metadata": {},
   "outputs": [
    {
     "data": {
      "image/png": "[encoded data removed]",
      "text/plain": [
       "<Figure size 640x480 with 1 Axes>"
      ]
     },
     "metadata": {},
     "output_type": "display_data"
    }
   ],
   "source": [
    "# TODO: estimate P(S), display in bar chart\n",
    "p_spam = Y.sum()/len(Y)\n",
    "p_ham = 1 - p_spam\n",
    "\n",
    "# display in bar chart\n",
    "import matplotlib.pyplot as plt\n",
    "fig = plt.figure()\n",
    "ax = fig.add_axes([0,0, 1, 1])\n",
    "x = ['p_ham', 'p_spam']\n",
    "y = p_s\n",
    "ax.bar(x,y)\n",
    "plt.show()"
   ]
  },
  {
   "cell_type": "markdown",
   "id": "bf01027f",
   "metadata": {},
   "source": [
    "## Likelihood P(W|S)\n",
    "\n",
    "The likelihood distribution models how likely a SMS is, given we know its either spam or ham.\n",
    "\n",
    "E.g. for $W = [\\text{this}, \\text{is}, \\text{no}, \\text{spam}, \\text{message}]$ we would expect something like \n",
    "\\begin{align}\n",
    "P(W|S=\\text{spam}) &= \\text{low}\\\\\n",
    "P(W|S=\\text{ham}) &= \\text{medium}\\\\\n",
    "\\end{align}\n",
    "\n",
    "However to estimate $P(W|S)$ we would need a dataset with the exact same $W$ appearing in both contexts: spam and ham. Since this is not the case for our dataset, this is the part where we make a naive assumption:\n",
    "\\begin{align}\n",
    "P(W|S) = \\prod_{w\\in W}P(w|S)\n",
    "\\end{align}\n",
    "That is, we consider each word in the SMS text independend of the others. This simplification enables us to estimate the likelihood, since single words to in fact appear in both contexts.\n",
    "\n",
    "For a single word $w$, we can again estimate the probability as relative frequency \n",
    "\\begin{align}\n",
    "P(w|S = \\text{spam})_{ML} &= \\cfrac{\\text{# word $w$ is labeled spam}}{\\text{# any word is labeled spam}}\\\\\n",
    "P(w|S = \\text{ham})_{ML} &= \\cfrac{\\text{# word $w$ is labeled ham}}{\\text{# any word is labeled ham}}\\\\\n",
    "\\end{align}\n",
    "\n",
    "Since we cannot expect every word to have appeared in a spam and ham message, we will smooth our dataset with a [Laplace smoothing](https://en.wikipedia.org/wiki/Additive_smoothing) of $\\varepsilon = 0.01$. \n",
    "\n",
    "This is done by adding $\\varepsilon$ to the count of every word in every SMS.\n",
    "\n",
    "As an example the count vector for a SMS over a vocabulary of 5 words is transformed from\n",
    "\\begin{align}\n",
    "[1, 2, 0, 0, 1]\n",
    "\\end{align}\n",
    "into\n",
    "\\begin{align}\n",
    "[1.001, 2.001, 0.001, 0.001, 1.001]\\,.\n",
    "\\end{align}\n",
    "\n",
    "This way we do not have zero probabilities in the product for calculating $P(W|S)$."
   ]
  },
  {
   "cell_type": "markdown",
   "id": "6e3d60a6",
   "metadata": {},
   "source": [
    "### Task 3\n",
    "\n",
    "Apply Laplace smoothing ($\\varepsilon = 0.001$) to the dataset."
   ]
  },
  {
   "cell_type": "code",
   "execution_count": 336,
   "id": "7f3b8f60",
   "metadata": {},
   "outputs": [],
   "source": [
    "# TODO: apply Laplace smoothing\n",
    "X = X + 0.001"
   ]
  },
  {
   "cell_type": "markdown",
   "id": "e91e054c",
   "metadata": {},
   "source": [
    "### Task 4\n",
    "\n",
    "For $W = [\\text{this}, \\text{is}, \\text{no}, \\text{spam}, \\text{message}]$, calculate $P(W|S)$.\n",
    "\n",
    "Display $P(w|S = \\text{spam}), P(w|S = \\text{ham})$ for every $w\\in W$."
   ]
  },
  {
   "cell_type": "code",
   "execution_count": 377,
   "id": "ca7a4d71",
   "metadata": {
    "scrolled": false
   },
   "outputs": [
    {
     "name": "stdout",
     "output_type": "stream",
     "text": [
      "7.68686364323572e-15\n",
      "1.479536856403864e-15\n"
     ]
    },
    {
     "data": {
      "image/png": "[encoded data removed]",
      "text/plain": [
       "<Figure size 640x480 with 1 Axes>"
      ]
     },
     "metadata": {},
     "output_type": "display_data"
    },
    {
     "data": {
      "image/png": "[encoded data removed]",
      "text/plain": [
       "<Figure size 640x480 with 1 Axes>"
      ]
     },
     "metadata": {},
     "output_type": "display_data"
    },
    {
     "data": {
      "image/png": "[encoded data removed]",
      "text/plain": [
       "<Figure size 640x480 with 1 Axes>"
      ]
     },
     "metadata": {},
     "output_type": "display_data"
    },
    {
     "data": {
      "image/png": "[encoded data removed]",
      "text/plain": [
       "<Figure size 640x480 with 1 Axes>"
      ]
     },
     "metadata": {},
     "output_type": "display_data"
    },
    {
     "data": {
      "image/png": "[encoded data removed]",
      "text/plain": [
       "<Figure size 640x480 with 1 Axes>"
      ]
     },
     "metadata": {},
     "output_type": "display_data"
    }
   ],
   "source": [
    "# TODO: calculate P(W|S) for W = [this is no spam message]\n",
    "# first get an array of all the spam messages / ham messages\n",
    "X_spam = X[Y == 1]\n",
    "X_ham = X[Y == 0]\n",
    "\n",
    "# in this array get the sum of each column (= total number of occurences of each word in the spam messages)\n",
    "word_count_spam = X_spam.sum(axis = 0)\n",
    "word_count_ham = X_ham.sum(axis = 0)\n",
    "\n",
    "word_probs_spam = word_count_spam/X_spam.sum()\n",
    "word_probs_ham = word_count_ham/X_ham.sum()\n",
    "\n",
    "W = [\"this\", \"is\", \"no\", \"spam\", \"message\"]\n",
    "W_indices = []\n",
    "for w in W:\n",
    "    W_indices.append(vectorizer.vocabulary_[w])\n",
    "    \n",
    "w_count_prod = 1\n",
    "for i in range(5):\n",
    "    w_count_prod *= word_probs_spam[W_indices[i]]\n",
    "p_W_spam = w_count_prod\n",
    "print(p_W_spam)\n",
    "\n",
    "w_count_prod = 1\n",
    "for i in range(5):\n",
    "    w_count_prod *= word_probs_ham[W_indices[i]]\n",
    "p_W_ham = w_count_prod\n",
    "print(p_W_ham)\n",
    "\n",
    "p_W_S = [p_W_spam, p_W_ham]\n",
    "\n",
    "# TODO: plot P(w|S)\n",
    "for i in range(len(W)):\n",
    "    y = [word_probs_spam[W_indices[i]], word_probs_ham[W_indices[i]]]\n",
    "    x = [\"spam\", \"ham\"]\n",
    "    fig = plt.figure()\n",
    "    ax = fig.add_axes([0,0, 1, 1])\n",
    "    ax.bar(x, y)\n",
    "    plt.title(W[i])\n",
    "plt.show()"
   ]
  },
  {
   "cell_type": "markdown",
   "id": "21f56062",
   "metadata": {},
   "source": [
    "### Task 5\n",
    "From the dataset, list the top 5 words with the highest probabilities $P(w|S = \\text{spam})$ and $P(w|S = \\text{ham})$."
   ]
  },
  {
   "cell_type": "code",
   "execution_count": 378,
   "id": "d824a33f",
   "metadata": {},
   "outputs": [
    {
     "name": "stdout",
     "output_type": "stream",
     "text": [
      "['to', 'call', 'you', 'your', 'free']\n",
      "['you', 'to', 'the', 'and', 'in']\n"
     ]
    }
   ],
   "source": [
    "# TODO: list top 5 words accoding to P(w|S)\n",
    "tmp = word_probs_spam\n",
    "highest_probs_spam = []\n",
    "    \n",
    "for i in range(5):\n",
    "    max = np.argmax(tmp)\n",
    "    tmp[max] = 0\n",
    "    highest_probs_spam.append(vectorizer.get_feature_names_out()[max])\n",
    "\n",
    "tmp = word_probs_ham\n",
    "highest_probs_ham = []\n",
    "\n",
    "for i in range(5):\n",
    "    max = np.argmax(tmp)\n",
    "    tmp[max] = 0\n",
    "    highest_probs_ham.append(vectorizer.get_feature_names_out()[max])\n",
    "\n",
    "print(highest_probs_spam)\n",
    "print(highest_probs_ham)"
   ]
  },
  {
   "cell_type": "markdown",
   "id": "e023938d",
   "metadata": {},
   "source": [
    "## Evidence $P(W)$"
   ]
  },
  {
   "cell_type": "markdown",
   "id": "a7e0c342",
   "metadata": {},
   "source": [
    "The evidence tells us how likely the SMS was anyway. In many cases this is the most difficult part of the posterior to calculate. Here however we are lucky, since there are only two cases for $S$ and therefore\n",
    "\\begin{align}\n",
    "P(W) = P(W|S=\\text{spam}) + P(W|S=\\text{ham})\n",
    "\\end{align}\n",
    "\n",
    "That is $P(W)$ acts as a normalization constant."
   ]
  },
  {
   "cell_type": "markdown",
   "id": "e1948ddc",
   "metadata": {},
   "source": [
    "### Task 6\n",
    "\n",
    "For $W = [\\text{this}, \\text{is}, \\text{no}, \\text{spam}, \\text{message}]$, calculate $P(W)$."
   ]
  },
  {
   "cell_type": "code",
   "execution_count": 381,
   "id": "908824b1",
   "metadata": {
    "scrolled": false
   },
   "outputs": [
    {
     "name": "stdout",
     "output_type": "stream",
     "text": [
      "P(W) =  9.166400499639584e-15\n"
     ]
    }
   ],
   "source": [
    "# TODO: calculate P(W) for W = [this is no spam message]\n",
    "print(f'P(W) = ', p_W_S[0] + p_W_S[1])"
   ]
  },
  {
   "cell_type": "markdown",
   "id": "27a75eeb",
   "metadata": {},
   "source": [
    "## Classification\n",
    "\n",
    "With Prior, Likelihood and Evidence we can now assemble the Posterior\n",
    "\\begin{align}\n",
    "P(S|W)&=\\cfrac{P(S)P(W|S)}{P(W)}\\,.\n",
    "\\end{align}\n",
    "\n",
    "Remember that we want to use the Posterior to classify $W$:\n",
    "\\begin{align}\n",
    "\\kappa(W) = \\begin{cases}\n",
    "\\text{spam}&\\text{, if }P(S = \\text{spam}|W) \\geq P(S = \\text{ham}|W)\\\\\n",
    "\\text{ham}&\\text{, else}\n",
    "\\end{cases}\n",
    "\\end{align}"
   ]
  },
  {
   "cell_type": "markdown",
   "id": "ecd3f13e",
   "metadata": {},
   "source": [
    "### Task 7\n",
    "\n",
    "Implement the following `NaiveBayes` class. \n",
    "\n",
    "Use it to fit and predict on the dataset."
   ]
  },
  {
   "cell_type": "code",
   "execution_count": 408,
   "id": "6f2647be",
   "metadata": {},
   "outputs": [
    {
     "data": {
      "text/plain": [
       "0.9926417803302225"
      ]
     },
     "execution_count": 408,
     "metadata": {},
     "output_type": "execute_result"
    }
   ],
   "source": [
    "class NaiveBayes():\n",
    "    \n",
    "    def __init__(self):\n",
    "        '''\n",
    "        Class for binary naive Bayes.\n",
    "        '''\n",
    "        self.p_spam = None\n",
    "        self.p_ham = None\n",
    "        self.spam_probs = None\n",
    "        self.ham_probs = None\n",
    "        pass\n",
    "    \n",
    "    def fit(self, X : np.ndarray, y : np.ndarray, eps : float = 0.0001):\n",
    "        '''\n",
    "        Given a dataset of count vectors, calculates probabilities needed for prediction.\n",
    "        \n",
    "        @Params:\n",
    "            X... word count matrix (# SMS x # words)\n",
    "            y... label matrix (# SMS)\n",
    "            eps... parameter for laplace smoothing\n",
    "        '''\n",
    "        # TODO: implement\n",
    "        # perform laplace smoothing on X\n",
    "        X = X + eps\n",
    "        \n",
    "        # divide X into spam / ham \n",
    "        X_spam = X[y == 1]\n",
    "        X_ham = X[y == 0]\n",
    "        \n",
    "        # calculate p(S)\n",
    "        self.p_spam = y.sum()/len(y)\n",
    "        self.p_ham = 1 - p_spam\n",
    "        \n",
    "        # calculate word counts\n",
    "        spam_counts = X_spam.sum(axis = 0)\n",
    "        ham_counts = X_ham.sum(axis = 0)\n",
    "        \n",
    "        # calculate word probabilities\n",
    "        self.spam_probs = spam_counts/X_spam.sum()\n",
    "        self.ham_probs = ham_counts/X_ham.sum()\n",
    "        pass\n",
    "        \n",
    "\n",
    "    def predict(self, X : np.ndarray) -> np.ndarray:\n",
    "        '''\n",
    "        Given a dataset of count vectors, predicts labels.\n",
    "        \n",
    "        @Params:\n",
    "            X... word count matrix (# SMS x # words)\n",
    "            \n",
    "        @Returns:\n",
    "            array of predictions for labels (0 = ham, 1 = spam)\n",
    "        '''\n",
    "        # TODO: implement\n",
    "        y = np.ndarray([])\n",
    "        \n",
    "        # use log to avoid multiplying by 0, ignore denominator bc it's the same for both probs\n",
    "        \n",
    "        log_p_s_w = (X * np.log(self.spam_probs)).sum(axis = 1) + np.log(p_spam)\n",
    "        log_p_h_w = (X * np.log(self.ham_probs)).sum(axis = 1) + np.log(p_ham)\n",
    "        y = (log_p_s_w >= log_p_h_w).astype(int)\n",
    "        return y\n",
    "  \n",
    "\n",
    "    def accuracy(self, X : np.ndarray, y : np.ndarray) -> float:\n",
    "        '''\n",
    "        Calculates accuracy for given dataset.\n",
    "        \n",
    "        @Params:\n",
    "            X... word count matrix (# SMS x # words)\n",
    "            y... label matrix (# SMS)\n",
    "            \n",
    "        @Returns:\n",
    "            accuracy (percentage of correctly classified x)\n",
    "        '''\n",
    "        # TODO: implement\n",
    "        return np.mean(self.predict(X) == y)\n",
    "        pass\n",
    "    \n",
    "# TODO: fit on dataset, report accuracy\n",
    "nb = NaiveBayes()\n",
    "nb.fit(X, Y)\n",
    "nb.accuracy(X, Y)\n"
   ]
  },
  {
   "cell_type": "markdown",
   "id": "7c326d56",
   "metadata": {},
   "source": [
    "### Task 8\n",
    "\n",
    "Obviously we trained on the same dataset as we tested and therefore cannot quite judge the performance of the naive Bayes classifier. \n",
    "\n",
    "Split your data into 75% training- and 25% testdata. Use a seed for reproducibility."
   ]
  },
  {
   "cell_type": "code",
   "execution_count": 409,
   "id": "2abbde39",
   "metadata": {},
   "outputs": [
    {
     "name": "stdout",
     "output_type": "stream",
     "text": [
      "(4179, 8672)\n",
      "4179\n"
     ]
    }
   ],
   "source": [
    "# TODO: provide train + testsplit\n",
    "from sklearn.model_selection import train_test_split\n",
    "X_train, X_test, y_train, y_test = train_test_split(X, Y, test_size=0.25, random_state=42)\n",
    "print(X_train.shape)\n",
    "print(len(y_train))"
   ]
  },
  {
   "cell_type": "markdown",
   "id": "5d23ca5e",
   "metadata": {},
   "source": [
    "### Task 9\n",
    "\n",
    "Now we systematically want to test our classifier. \n",
    "\n",
    "For different values of $\\varepsilon$ track the accuracy on train and testdata.\n",
    "Which value for $\\varepsilon$ would you recommend?"
   ]
  },
  {
   "cell_type": "code",
   "execution_count": 413,
   "id": "f74023c8",
   "metadata": {},
   "outputs": [
    {
     "name": "stdout",
     "output_type": "stream",
     "text": [
      "0.9798994974874372\n",
      "0.9798994974874372\n",
      "0.9798994974874372\n",
      "0.9798994974874372\n",
      "0.9798994974874372\n",
      "0.9798994974874372\n",
      "0.9798994974874372\n",
      "0.9834888729361091\n",
      "0.9727207465900933\n",
      "0.9569274946159368\n",
      "0.8880114860014358\n"
     ]
    }
   ],
   "source": [
    "# TODO: report train- and test accuracy for different epsilons\n",
    "nb.fit(X_train, y_train, 1e-10)\n",
    "print(nb.accuracy(X_test, y_test))\n",
    "\n",
    "nb.fit(X_train, y_train, 1e-9)\n",
    "print(nb.accuracy(X_test, y_test))\n",
    "\n",
    "nb.fit(X_train, y_train, 1e-8)\n",
    "print(nb.accuracy(X_test, y_test))\n",
    "\n",
    "nb.fit(X_train, y_train, 1e-7)\n",
    "print(nb.accuracy(X_test, y_test))\n",
    "\n",
    "nb.fit(X_train, y_train, 1e-6)\n",
    "print(nb.accuracy(X_test, y_test))\n",
    "\n",
    "nb.fit(X_train, y_train, 1e-5)\n",
    "print(nb.accuracy(X_test, y_test))\n",
    "\n",
    "nb.fit(X_train, y_train, 1e-4)\n",
    "print(nb.accuracy(X_test, y_test))\n",
    "\n",
    "nb.fit(X_train, y_train, 1e-3)\n",
    "print(nb.accuracy(X_test, y_test))\n",
    "\n",
    "nb.fit(X_train, y_train, 1e-2)\n",
    "print(nb.accuracy(X_test, y_test))\n",
    "\n",
    "nb.fit(X_train, y_train, 1e-1)\n",
    "print(nb.accuracy(X_test, y_test))\n",
    "\n",
    "nb.fit(X_train, y_train, 1)\n",
    "print(nb.accuracy(X_test, y_test))"
   ]
  },
  {
   "cell_type": "code",
   "execution_count": 414,
   "id": "36ed6dc6",
   "metadata": {},
   "outputs": [],
   "source": [
    "# bei eps = 1e-3 ist die höchste accuracy erreicht, wird eps kleiner, wird es nicht wesentlich ungenauer, wird es größer hingegen schon\n",
    "# das liegt denke ich auch an den größeren Rundungsfehlern bei größeren floats"
   ]
  }
 ],
 "metadata": {
  "kernelspec": {
   "display_name": "Python 3 (ipykernel)",
   "language": "python",
   "name": "python3"
  },
  "language_info": {
   "codemirror_mode": {
    "name": "ipython",
    "version": 3
   },
   "file_extension": ".py",
   "mimetype": "text/x-python",
   "name": "python",
   "nbconvert_exporter": "python",
   "pygments_lexer": "ipython3",
   "version": "3.10.9"
  }
 },
 "nbformat": 4,
 "nbformat_minor": 5
}
